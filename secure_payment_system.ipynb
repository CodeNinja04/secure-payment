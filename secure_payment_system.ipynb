{
  "nbformat": 4,
  "nbformat_minor": 0,
  "metadata": {
    "colab": {
      "name": "Untitled1.ipynb",
      "provenance": [],
      "collapsed_sections": []
    },
    "kernelspec": {
      "name": "python3",
      "display_name": "Python 3"
    },
    "language_info": {
      "name": "python"
    }
  },
  "cells": [
    {
      "cell_type": "code",
      "metadata": {
        "id": "1lIEOWtVhukn"
      },
      "source": [
        "from tinyec import registry\n",
        "from Crypto.Cipher import AES\n",
        "import hashlib, secrets, binascii\n"
      ],
      "execution_count": 6,
      "outputs": []
    },
    {
      "cell_type": "code",
      "metadata": {
        "id": "zYPXuGREiD5K"
      },
      "source": [
        "def encrypt_AES_GCM(msg, secretKey):\n",
        "  aesCipher = AES.new(secretKey, AES.MODE_GCM)\n",
        "  ciphertext, authTag = aesCipher.encrypt_and_digest(msg)\n",
        "  return (ciphertext, aesCipher.nonce, authTag)\n",
        "def decrypt_AES_GCM(ciphertext, nonce, authTag, secretKey):\n",
        "  aesCipher = AES.new(secretKey, AES.MODE_GCM, nonce)\n",
        "  plaintext = aesCipher.decrypt_and_verify(ciphertext, authTag)\n",
        "  return plaintext\n",
        "def ecc_point_to_256_bit_key(point):\n",
        "  sha = hashlib.sha256(int.to_bytes(point.x, 32, 'big'))\n",
        "  sha.update(int.to_bytes(point.y, 32, 'big'))\n",
        "  return sha.digest()\n",
        "curve = registry.get_curve('brainpoolP256r1')\n",
        "def encrypt_ECC(msg, pubKey):\n",
        "  ciphertextPrivKey = secrets.randbelow(curve.field.n)\n",
        "  sharedECCKey = ciphertextPrivKey * pubKey\n",
        "  secretKey = ecc_point_to_256_bit_key(sharedECCKey)\n",
        "  ciphertext, nonce, authTag = encrypt_AES_GCM(msg, secretKey)\n",
        "  ciphertextPubKey = ciphertextPrivKey * curve.g\n",
        "  return (ciphertext, nonce, authTag, ciphertextPubKey)\n",
        "def decrypt_ECC(encryptedMsg, privKey):\n",
        "  (ciphertext, nonce, authTag, ciphertextPubKey) = encryptedMsg\n",
        "  sharedECCKey = privKey * ciphertextPubKey\n",
        "  secretKey = ecc_point_to_256_bit_key(sharedECCKey)\n",
        "  plaintext = decrypt_AES_GCM(ciphertext, nonce, authTag, secretKey)\n",
        "  return plaintext"
      ],
      "execution_count": 8,
      "outputs": []
    },
    {
      "cell_type": "code",
      "metadata": {
        "colab": {
          "base_uri": "https://localhost:8080/"
        },
        "id": "tWkaJjK8sbT9",
        "outputId": "8cb8701f-bf5f-42b2-89d9-9bbaa0ea0a49"
      },
      "source": [
        "from Crypto.PublicKey import RSA\n",
        "from Crypto.Signature.pkcs1_15 import PKCS115_SigScheme\n",
        "from Crypto.Hash import SHA256\n",
        "import binascii\n",
        "\n",
        "\n",
        "keyPair = RSA.generate(bits=1024)\n",
        "pubKey = keyPair.publickey()\n",
        "flag=0\n",
        "while(flag==0):\n",
        "  print(\"-----------------SECURE PAYMENT APP------------------\")\n",
        "  print(\"Type 1 for credit card\")\n",
        "  print(\"Type 2 for debit card\")\n",
        "  print(\"Type 3 for UPI payemnt\")\n",
        "  print(\"Type 4 for exit \")\n",
        "  \n",
        "  method=int(input())\n",
        "\n",
        "  if (method==4):\n",
        "    exit(0)\n",
        "  else:\n",
        "    if(method==1 or method==2):\n",
        "      card=input(\"Please enter card number\")\n",
        "      cvv=input(\"please enter cvv\")\n",
        "\n",
        "msg = b'Message for RSA signing'\n",
        "hash = SHA256.new(msg)\n",
        "signer = PKCS115_SigScheme(keyPair)\n",
        "signature = signer.sign(hash)\n",
        "print(\"Signature:\", binascii.hexlify(signature))\n",
        "\n",
        "# Verify valid PKCS#1 v1.5 signature (RSAVP1)\n",
        "msg = b'Message for RSA signing'\n",
        "hash = SHA256.new(msg)\n",
        "verifier = PKCS115_SigScheme(pubKey)\n",
        "try:\n",
        "    verifier.verify(hash, signature)\n",
        "    print(\"Signature is valid.\")\n",
        "except:\n",
        "    print(\"Signature is invalid.\")\n",
        "\n"
      ],
      "execution_count": 9,
      "outputs": [
        {
          "output_type": "stream",
          "text": [
            "Signature: b'958f698c33cff733f985c0e8aa48867b488b511b3e2cf2297c1c90154570bdec05954bb010d1cb3c90c27918234767bb0298c961ddb6ab93a2e9621080f144c234e90956d299103b1f56a5686c0aec5925df2611f115e652e4f528d5a46b311371a756a3e06be7064c33061ff24a7bba0e558b731629ab9e4b57e06d078bf57f'\n",
            "Signature is valid.\n",
            "Signature is invalid.\n"
          ],
          "name": "stdout"
        }
      ]
    },
    {
      "cell_type": "code",
      "metadata": {
        "colab": {
          "base_uri": "https://localhost:8080/",
          "height": 370
        },
        "id": "4ehflcNL6NBI",
        "outputId": "d8827105-1575-4150-ff4f-4bb8bc2bd4ea"
      },
      "source": [
        "import Crypto\n",
        "from Crypto.PublicKey import RSA\n",
        "from Crypto import Random\n",
        "import base64\n",
        "from Crypto.Cipher import PKCS1_OAEP\n",
        "\n",
        "def rsakeys():  \n",
        "     length=1024  \n",
        "     privatekey = RSA.generate(length, Random.new().read)  \n",
        "     publickey = privatekey.publickey()  \n",
        "     return privatekey, publickey\n",
        "def encrypt(rsa_publickey,plain_text):\n",
        "     cipher_text=rsa_publickey.encrypt(plain_text,32)[0]\n",
        "     b64cipher=base64.b64encode(cipher_text)\n",
        "     return b64cipher\n",
        "def decrypt(rsa_privatekey,b64cipher):\n",
        "     decoded_ciphertext = base64.b64decode(b64cipher)\n",
        "     plaintext = rsa_privatekey.decrypt(decoded_ciphertext)\n",
        "     return plaintext\n",
        "privatekey,publickey=rsakeys()\n",
        "def sign(privatekey,data):\n",
        "    return base64.b64encode(str((privatekey.sign(data,''))[0]).encode())\n",
        "def verify(publickey,data,sign):\n",
        "     return publickey.verify(data,(int(base64.b64decode(sign)),))\n",
        "\n",
        "text=b\"Hello Srikanth!\"\n",
        "ct=encrypt(publickey,text)\n",
        "print(ct)\n",
        "decrypt(privatekey,ct)"
      ],
      "execution_count": 14,
      "outputs": [
        {
          "output_type": "error",
          "ename": "NotImplementedError",
          "evalue": "ignored",
          "traceback": [
            "\u001b[0;31m---------------------------------------------------------------------------\u001b[0m",
            "\u001b[0;31mNotImplementedError\u001b[0m                       Traceback (most recent call last)",
            "\u001b[0;32m<ipython-input-14-d2e7c83a2a94>\u001b[0m in \u001b[0;36m<module>\u001b[0;34m()\u001b[0m\n\u001b[1;32m     25\u001b[0m \u001b[0;34m\u001b[0m\u001b[0m\n\u001b[1;32m     26\u001b[0m \u001b[0mtext\u001b[0m\u001b[0;34m=\u001b[0m\u001b[0;34mb\"Hello Srikanth!\"\u001b[0m\u001b[0;34m\u001b[0m\u001b[0;34m\u001b[0m\u001b[0m\n\u001b[0;32m---> 27\u001b[0;31m \u001b[0mct\u001b[0m\u001b[0;34m=\u001b[0m\u001b[0mencrypt\u001b[0m\u001b[0;34m(\u001b[0m\u001b[0mpublickey\u001b[0m\u001b[0;34m,\u001b[0m\u001b[0mtext\u001b[0m\u001b[0;34m)\u001b[0m\u001b[0;34m\u001b[0m\u001b[0;34m\u001b[0m\u001b[0m\n\u001b[0m\u001b[1;32m     28\u001b[0m \u001b[0mprint\u001b[0m\u001b[0;34m(\u001b[0m\u001b[0mct\u001b[0m\u001b[0;34m)\u001b[0m\u001b[0;34m\u001b[0m\u001b[0;34m\u001b[0m\u001b[0m\n\u001b[1;32m     29\u001b[0m \u001b[0mdecrypt\u001b[0m\u001b[0;34m(\u001b[0m\u001b[0mprivatekey\u001b[0m\u001b[0;34m,\u001b[0m\u001b[0mct\u001b[0m\u001b[0;34m)\u001b[0m\u001b[0;34m\u001b[0m\u001b[0;34m\u001b[0m\u001b[0m\n",
            "\u001b[0;32m<ipython-input-14-d2e7c83a2a94>\u001b[0m in \u001b[0;36mencrypt\u001b[0;34m(rsa_publickey, plain_text)\u001b[0m\n\u001b[1;32m     11\u001b[0m      \u001b[0;32mreturn\u001b[0m \u001b[0mprivatekey\u001b[0m\u001b[0;34m,\u001b[0m \u001b[0mpublickey\u001b[0m\u001b[0;34m\u001b[0m\u001b[0;34m\u001b[0m\u001b[0m\n\u001b[1;32m     12\u001b[0m \u001b[0;32mdef\u001b[0m \u001b[0mencrypt\u001b[0m\u001b[0;34m(\u001b[0m\u001b[0mrsa_publickey\u001b[0m\u001b[0;34m,\u001b[0m\u001b[0mplain_text\u001b[0m\u001b[0;34m)\u001b[0m\u001b[0;34m:\u001b[0m\u001b[0;34m\u001b[0m\u001b[0;34m\u001b[0m\u001b[0m\n\u001b[0;32m---> 13\u001b[0;31m      \u001b[0mcipher_text\u001b[0m\u001b[0;34m=\u001b[0m\u001b[0mrsa_publickey\u001b[0m\u001b[0;34m.\u001b[0m\u001b[0mencrypt\u001b[0m\u001b[0;34m(\u001b[0m\u001b[0mplain_text\u001b[0m\u001b[0;34m,\u001b[0m\u001b[0;36m32\u001b[0m\u001b[0;34m)\u001b[0m\u001b[0;34m[\u001b[0m\u001b[0;36m0\u001b[0m\u001b[0;34m]\u001b[0m\u001b[0;34m\u001b[0m\u001b[0;34m\u001b[0m\u001b[0m\n\u001b[0m\u001b[1;32m     14\u001b[0m      \u001b[0mb64cipher\u001b[0m\u001b[0;34m=\u001b[0m\u001b[0mbase64\u001b[0m\u001b[0;34m.\u001b[0m\u001b[0mb64encode\u001b[0m\u001b[0;34m(\u001b[0m\u001b[0mcipher_text\u001b[0m\u001b[0;34m)\u001b[0m\u001b[0;34m\u001b[0m\u001b[0;34m\u001b[0m\u001b[0m\n\u001b[1;32m     15\u001b[0m      \u001b[0;32mreturn\u001b[0m \u001b[0mb64cipher\u001b[0m\u001b[0;34m\u001b[0m\u001b[0;34m\u001b[0m\u001b[0m\n",
            "\u001b[0;32m/usr/local/lib/python3.7/dist-packages/Crypto/PublicKey/RSA.py\u001b[0m in \u001b[0;36mencrypt\u001b[0;34m(self, plaintext, K)\u001b[0m\n\u001b[1;32m    377\u001b[0m \u001b[0;34m\u001b[0m\u001b[0m\n\u001b[1;32m    378\u001b[0m     \u001b[0;32mdef\u001b[0m \u001b[0mencrypt\u001b[0m\u001b[0;34m(\u001b[0m\u001b[0mself\u001b[0m\u001b[0;34m,\u001b[0m \u001b[0mplaintext\u001b[0m\u001b[0;34m,\u001b[0m \u001b[0mK\u001b[0m\u001b[0;34m)\u001b[0m\u001b[0;34m:\u001b[0m\u001b[0;34m\u001b[0m\u001b[0;34m\u001b[0m\u001b[0m\n\u001b[0;32m--> 379\u001b[0;31m         \u001b[0;32mraise\u001b[0m \u001b[0mNotImplementedError\u001b[0m\u001b[0;34m(\u001b[0m\u001b[0;34m\"Use module Crypto.Cipher.PKCS1_OAEP instead\"\u001b[0m\u001b[0;34m)\u001b[0m\u001b[0;34m\u001b[0m\u001b[0;34m\u001b[0m\u001b[0m\n\u001b[0m\u001b[1;32m    380\u001b[0m \u001b[0;34m\u001b[0m\u001b[0m\n\u001b[1;32m    381\u001b[0m     \u001b[0;32mdef\u001b[0m \u001b[0mdecrypt\u001b[0m\u001b[0;34m(\u001b[0m\u001b[0mself\u001b[0m\u001b[0;34m,\u001b[0m \u001b[0mciphertext\u001b[0m\u001b[0;34m)\u001b[0m\u001b[0;34m:\u001b[0m\u001b[0;34m\u001b[0m\u001b[0;34m\u001b[0m\u001b[0m\n",
            "\u001b[0;31mNotImplementedError\u001b[0m: Use module Crypto.Cipher.PKCS1_OAEP instead"
          ]
        }
      ]
    },
    {
      "cell_type": "code",
      "metadata": {
        "colab": {
          "base_uri": "https://localhost:8080/"
        },
        "id": "j-bxSjAn8Fe0",
        "outputId": "098fb11a-9c7c-4f8c-cab1-af51e6e40276"
      },
      "source": [
        "import ast\n",
        "from Crypto.PublicKey import RSA\n",
        "from Crypto import Random\n",
        "from Crypto.Cipher import PKCS1_OAEP\n",
        "from Crypto.Signature import pkcs1_15\n",
        "from Crypto.Hash import SHA256\n",
        "from Crypto.Signature.pkcs1_15 import PKCS115_SigScheme\n",
        "\n",
        "\n",
        "random_generator = Random.new().read\n",
        "key = RSA.generate(1024, random_generator)  \n",
        "\n",
        "publickey = key.publickey()\n",
        "\n",
        "\n",
        "encryptor = PKCS1_OAEP.new(publickey)\n",
        "flag=0\n",
        "while(flag==0):\n",
        "  print(\"-----------------SECURE PAYMENT APP------------------\")\n",
        "  print(\"Type 1 for credit card\")\n",
        "  print(\"Type 2 for debit card\")\n",
        "  print(\"Type 3 for UPI payemnt\")\n",
        "  print(\"Type 4 for exit \")\n",
        "  \n",
        "  method=int(input())\n",
        "\n",
        "  if (method==4):\n",
        "    print(\"EXIT\")\n",
        "    exit(0)\n",
        "    break\n",
        "  elif (method==1 or method == 2):\n",
        "    if(method==1 or method==2):\n",
        "      \n",
        "      card=input(\"Please enter card number\")\n",
        "      cvv=input(\"please enter cvv\")\n",
        "      value =card+cvv\n",
        "      h=SHA256.new(value.encode())\n",
        "      signature=pkcs1_15.new(key).sign(h)\n",
        "      print(signature)\n",
        "      value=value.encode()\n",
        "      encrypted = encryptor.encrypt(value)\n",
        "\n",
        "      print(\"encrypted data is =\",encrypted)\n",
        "      decryptor = PKCS1_OAEP.new(key)\n",
        "\n",
        "      decrypted = decryptor.decrypt(ast.literal_eval(str(encrypted)))\n",
        "      print(\"decrypted data = \",decrypted)\n",
        "      try:\n",
        "        pkcs1_15.new(publickey).verify(h, signature)\n",
        "        print (\"The signature is valid.\")\n",
        "        print(\"Transaction completed\")\n",
        "        print(\"----------------- THANK YOU ------------------\")\n",
        "      except (ValueError, TypeError):\n",
        "        print (\"The signature is not valid.\")\n",
        "        print(\"Transaction Failed please try again\")\n",
        "      \n",
        "      \n",
        "\n",
        "  else:\n",
        "    upi=input(\"Enter UPI ID\")\n",
        "    print(upi)\n",
        "    h=SHA256.new(upi.encode())\n",
        "    signature=pkcs1_15.new(key).sign(h)\n",
        "    print(\"Signature is = \",signature)\n",
        "    encrypted = encryptor.encrypt(upi.encode())\n",
        "    print(\"encrypted data is =\",encrypted)\n",
        "    decryptor = PKCS1_OAEP.new(key)\n",
        "\n",
        "    decrypted = decryptor.decrypt(ast.literal_eval(str(encrypted)))\n",
        "    print(\"decrypted data = \",decrypted)\n",
        "    h=SHA256.new(decrypted)\n",
        "    try:\n",
        "      pkcs1_15.new(publickey).verify(h, signature)\n",
        "      print (\"The signature is valid.\")\n",
        "      print(\"Transaction completed\")\n",
        "      print(\"----------------- THANK YOU ------------------\")\n",
        "      \n",
        "    except (ValueError, TypeError):\n",
        "      print (\"The signature is not valid.\")\n",
        "      print(\"Transaction Failed please try again\")\n",
        "\n",
        "\n",
        "\n",
        "\n"
      ],
      "execution_count": null,
      "outputs": [
        {
          "output_type": "stream",
          "text": [
            "-----------------SECURE PAYMENT APP------------------\n",
            "Type 1 for credit card\n",
            "Type 2 for debit card\n",
            "Type 3 for UPI payemnt\n",
            "Type 4 for exit \n",
            "3\n",
            "Enter UPI IDhemendra\n",
            "hemendra\n",
            "Signature is =  b'ai\\xd4\\x99/gOV\\xf5J\\xcf\\xc8y\\n\\xb0{\\xe7\\xe6\\xc2\\x03V\\x1c\\x99\\r\\xebZ\\x84\\xae\\x8e2\\xf1\\xd0 \\xc9\\x94\\x9d\\x97+\\x1a\\x0b\\xbe\\x97\\xea\\xc2xlI\\x91i*NT\\xeb\\x0e\\x08~[\\xe7\\xc5\\xdc\\xec{\\xc8\\xf5x\\xdd\\xb6\\xad\\xf8C\\x8c\\xb26\\x13\\xca^\\x96\\x1f\\xfa\\x9f\\xdd8\\x85\\x8c\\xdc\\x07!#yE\\xcc\\xe9\\xf2P\\xe5\\t\\xf9;\\xb9*\\x99)\\x10\\x8ci[\\xe7\\x1a\\xe9?\\xa3\\x07\\xd1\\x12\\x7fS\\x8c\\xc3\\x1dk\\x96\\xca\\xae~d\\xe5\\x14\\x05'\n",
            "encrypted data is = b'{\\x87\";\\x8a\\xa8\\x87\\xe6\\xaf`\\xb7\\x02Q\\x12\\x13J\\x96j\\xea\\xefw8\\xf4\\xcb\\x05\\xab\\x8f/\\x8a\\xea\\xaeo\\xd2\\xb2\\xf7\\x1d|W\\xe85\\x8f\\xf8>)C\\xbf[\\xd0]\\x14\\x1e[z\\x80\\x84,\\x18\\xc8\\x1d\\xd4\\x1c,\\x17e\\xd7\\xde&\\x89\\xa4S\\xb3l\\x8e\\x19\\x86\\xc6\\xea\\x05d\\xba;-\\xc9\\xbdvv\\x13\\x7fb!T\\xe0=\\xef@\\xe7.\\x9d\\xac-\\x8ae|\\x05f\\x1c%\\x86\\xbdD/\\xf2\\x117B9.?\\xef\\x07\\xa4N7ZG\\x1b\\xed\\xb8'\n",
            "decrypted data =  b'hemendra'\n",
            "The signature is valid.\n",
            "Transaction completed\n",
            "----------------- THANK YOU ------------------\n",
            "-----------------SECURE PAYMENT APP------------------\n",
            "Type 1 for credit card\n",
            "Type 2 for debit card\n",
            "Type 3 for UPI payemnt\n",
            "Type 4 for exit \n"
          ],
          "name": "stdout"
        }
      ]
    }
  ]
}