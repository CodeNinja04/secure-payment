{
 "cells": [
  {
   "cell_type": "code",
   "execution_count": null,
   "metadata": {
    "id": "1lIEOWtVhukn"
   },
   "outputs": [],
   "source": [
    "\n",
    "import ast\n",
    "from Crypto.PublicKey import RSA\n",
    "from Crypto import Random\n",
    "from Crypto.Cipher import PKCS1_OAEP\n",
    "from Crypto.Signature import pkcs1_15\n",
    "from Crypto.Hash import SHA256\n",
    "from Crypto.Signature.pkcs1_15 import PKCS115_SigScheme\n",
    "\n",
    "\n",
    "random_generator = Random.new().read\n",
    "key = RSA.generate(1024, random_generator)  \n",
    "\n",
    "publickey = key.publickey()\n",
    "\n",
    "\n",
    "encryptor = PKCS1_OAEP.new(publickey)\n",
    "flag=0\n",
    "while(flag==0):\n",
    "  print(\"-----------------SECURE PAYMENT APP------------------\")\n",
    "  print(\"Type 1 for credit card\")\n",
    "  print(\"Type 2 for debit card\")\n",
    "  print(\"Type 3 for UPI payemnt\")\n",
    "  print(\"Type 4 for exit \")\n",
    "  \n",
    "  method=int(input())\n",
    "\n",
    "  if (method==4):\n",
    "    print(\"EXIT\")\n",
    "    exit(0)\n",
    "    break\n",
    "  elif (method==1 or method == 2):\n",
    "    if(method==1 or method==2):\n",
    "      \n",
    "      card=input(\"Please enter card number\")\n",
    "      cvv=input(\"please enter cvv\")\n",
    "      value =card+cvv\n",
    "      h=SHA256.new(value.encode())\n",
    "      signature=pkcs1_15.new(key).sign(h)\n",
    "      print(signature)\n",
    "      value=value.encode()\n",
    "      encrypted = encryptor.encrypt(value)\n",
    "\n",
    "      print(\"encrypted data is =\",encrypted)\n",
    "      decryptor = PKCS1_OAEP.new(key)\n",
    "\n",
    "      decrypted = decryptor.decrypt(ast.literal_eval(str(encrypted)))\n",
    "      print(\"decrypted data = \",decrypted)\n",
    "      try:\n",
    "        pkcs1_15.new(publickey).verify(h, signature)\n",
    "        print (\"The signature is valid.\")\n",
    "        print(\"Transaction completed\")\n",
    "        print(\"----------------- THANK YOU ------------------\")\n",
    "      except (ValueError, TypeError):\n",
    "        print (\"The signature is not valid.\")\n",
    "        print(\"Transaction Failed please try again\")\n",
    "      \n",
    "      \n",
    "\n",
    "  else:\n",
    "    upi=input(\"Enter UPI ID\")\n",
    "    print(upi)\n",
    "    h=SHA256.new(upi.encode())\n",
    "    signature=pkcs1_15.new(key).sign(h)\n",
    "    print(\"Signature is = \",signature)\n",
    "    encrypted = encryptor.encrypt(upi.encode())\n",
    "    print(\"encrypted data is =\",encrypted)\n",
    "    decryptor = PKCS1_OAEP.new(key)\n",
    "\n",
    "    decrypted = decryptor.decrypt(ast.literal_eval(str(encrypted)))\n",
    "    print(\"decrypted data = \",decrypted)\n",
    "    h=SHA256.new(decrypted)\n",
    "    try:\n",
    "      pkcs1_15.new(publickey).verify(h, signature)\n",
    "      print (\"The signature is valid.\")\n",
    "      print(\"Transaction completed\")\n",
    "      print(\"----------------- THANK YOU ------------------\")\n",
    "      \n",
    "    except (ValueError, TypeError):\n",
    "      print (\"The signature is not valid.\")\n",
    "      print(\"Transaction Failed please try again\")\n",
    "\n",
    "\n",
    "\n",
    "\n"
   ]
  },
  {
   "cell_type": "code",
   "execution_count": 8,
   "metadata": {
    "id": "zYPXuGREiD5K"
   },
   "outputs": [],
   "source": [
    "\n"
   ]
  },
  {
   "cell_type": "code",
   "execution_count": null,
   "metadata": {
    "colab": {
     "base_uri": "https://localhost:8080/"
    },
    "id": "tWkaJjK8sbT9",
    "outputId": "8cb8701f-bf5f-42b2-89d9-9bbaa0ea0a49"
   },
   "outputs": [],
   "source": [
    "\n"
   ]
  },
  {
   "cell_type": "code",
   "execution_count": null,
   "metadata": {
    "colab": {
     "base_uri": "https://localhost:8080/",
     "height": 370
    },
    "id": "4ehflcNL6NBI",
    "outputId": "d8827105-1575-4150-ff4f-4bb8bc2bd4ea"
   },
   "outputs": [],
   "source": []
  },
  {
   "cell_type": "code",
   "execution_count": null,
   "metadata": {
    "colab": {
     "base_uri": "https://localhost:8080/"
    },
    "id": "j-bxSjAn8Fe0",
    "outputId": "098fb11a-9c7c-4f8c-cab1-af51e6e40276"
   },
   "outputs": [],
   "source": []
  },
  {
   "cell_type": "code",
   "execution_count": null,
   "metadata": {},
   "outputs": [],
   "source": []
  }
 ],
 "metadata": {
  "colab": {
   "collapsed_sections": [],
   "name": "Untitled1.ipynb",
   "provenance": []
  },
  "kernelspec": {
   "display_name": "Python 3",
   "language": "python",
   "name": "python3"
  },
  "language_info": {
   "codemirror_mode": {
    "name": "ipython",
    "version": 3
   },
   "file_extension": ".py",
   "mimetype": "text/x-python",
   "name": "python",
   "nbconvert_exporter": "python",
   "pygments_lexer": "ipython3",
   "version": "3.8.5"
  }
 },
 "nbformat": 4,
 "nbformat_minor": 1
}
